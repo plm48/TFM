{
 "cells": [
  {
   "cell_type": "code",
   "execution_count": 1,
   "metadata": {},
   "outputs": [
    {
     "name": "stderr",
     "output_type": "stream",
     "text": [
      "/home/pablo/anaconda3/lib/python3.6/site-packages/h5py/__init__.py:36: FutureWarning: Conversion of the second argument of issubdtype from `float` to `np.floating` is deprecated. In future, it will be treated as `np.float64 == np.dtype(float).type`.\n",
      "  from ._conv import register_converters as _register_converters\n"
     ]
    }
   ],
   "source": [
    "import cv2\n",
    "from darkflow.net.build import TFNet\n",
    "import numpy as np\n",
    "import time\n",
    "import sys\n",
    "import matplotlib.pyplot as plt\n",
    "import os"
   ]
  },
  {
   "cell_type": "code",
   "execution_count": 2,
   "metadata": {},
   "outputs": [
    {
     "name": "stdout",
     "output_type": "stream",
     "text": [
      "Parsing ./cfg/tiny-yolo-voc.cfg\n",
      "Parsing cfg/tiny-yolo-voc.cfg\n",
      "Loading bin/tiny-yolo-voc.weights ...\n",
      "Successfully identified 63471556 bytes\n",
      "Finished in 0.029381990432739258s\n",
      "Model has a VOC model name, loading VOC labels.\n",
      "\n",
      "Building net ...\n",
      "Source | Train? | Layer description                | Output size\n",
      "-------+--------+----------------------------------+---------------\n",
      "       |        | input                            | (?, 416, 416, 3)\n",
      " Load  |  Yep!  | conv 3x3p1_1  +bnorm  leaky      | (?, 416, 416, 16)\n",
      " Load  |  Yep!  | maxp 2x2p0_2                     | (?, 208, 208, 16)\n",
      " Load  |  Yep!  | conv 3x3p1_1  +bnorm  leaky      | (?, 208, 208, 32)\n",
      " Load  |  Yep!  | maxp 2x2p0_2                     | (?, 104, 104, 32)\n",
      " Load  |  Yep!  | conv 3x3p1_1  +bnorm  leaky      | (?, 104, 104, 64)\n",
      " Load  |  Yep!  | maxp 2x2p0_2                     | (?, 52, 52, 64)\n",
      " Load  |  Yep!  | conv 3x3p1_1  +bnorm  leaky      | (?, 52, 52, 128)\n",
      " Load  |  Yep!  | maxp 2x2p0_2                     | (?, 26, 26, 128)\n",
      " Load  |  Yep!  | conv 3x3p1_1  +bnorm  leaky      | (?, 26, 26, 256)\n",
      " Load  |  Yep!  | maxp 2x2p0_2                     | (?, 13, 13, 256)\n",
      " Load  |  Yep!  | conv 3x3p1_1  +bnorm  leaky      | (?, 13, 13, 512)\n",
      " Load  |  Yep!  | maxp 2x2p0_1                     | (?, 13, 13, 512)\n",
      " Load  |  Yep!  | conv 3x3p1_1  +bnorm  leaky      | (?, 13, 13, 1024)\n",
      " Load  |  Yep!  | conv 3x3p1_1  +bnorm  leaky      | (?, 13, 13, 1024)\n",
      " Load  |  Yep!  | conv 1x1p0_1    linear           | (?, 13, 13, 125)\n",
      "-------+--------+----------------------------------+---------------\n",
      "GPU mode with 1.0 usage\n",
      "Finished in 6.275697231292725s\n",
      "\n"
     ]
    }
   ],
   "source": [
    "option = {\n",
    "    'model': 'cfg/tiny-yolo-voc.cfg',\n",
    "    'load': 'bin/tiny-yolo-voc.weights',\n",
    "    'threshold': 0.4,\n",
    "    'gpu': 1.0\n",
    "}\n",
    "\n",
    "# After choosing the options of the model we have to pass it to the CNN\n",
    "\n",
    "tfnet = TFNet(option) # Initializing the model"
   ]
  },
  {
   "cell_type": "code",
   "execution_count": 5,
   "metadata": {},
   "outputs": [
    {
     "data": {
      "text/plain": [
       "'3.1.0'"
      ]
     },
     "execution_count": 5,
     "metadata": {},
     "output_type": "execute_result"
    }
   ],
   "source": [
    "cv2.__version__"
   ]
  },
  {
   "cell_type": "code",
   "execution_count": 6,
   "metadata": {
    "scrolled": true
   },
   "outputs": [],
   "source": [
    "cap = cv2.VideoCapture(0)\n",
    "\n",
    "# Initialize all the arrays\n",
    "bbox_on_use=[]\n",
    "ok=[]\n",
    "tracker=[]"
   ]
  },
  {
   "cell_type": "code",
   "execution_count": 7,
   "metadata": {},
   "outputs": [
    {
     "ename": "AttributeError",
     "evalue": "module 'cv2' has no attribute 'TrackerKCF_create'",
     "output_type": "error",
     "traceback": [
      "\u001b[0;31m---------------------------------------------------------------------------\u001b[0m",
      "\u001b[0;31mAttributeError\u001b[0m                            Traceback (most recent call last)",
      "\u001b[0;32m<ipython-input-7-8675833784fb>\u001b[0m in \u001b[0;36m<module>\u001b[0;34m()\u001b[0m\n\u001b[1;32m     34\u001b[0m \u001b[0;34m\u001b[0m\u001b[0m\n\u001b[1;32m     35\u001b[0m             \u001b[0;32mif\u001b[0m \u001b[0mnew_bbox\u001b[0m\u001b[0;34m==\u001b[0m\u001b[0;32mTrue\u001b[0m\u001b[0;34m:\u001b[0m\u001b[0;34m\u001b[0m\u001b[0m\n\u001b[0;32m---> 36\u001b[0;31m                 \u001b[0mtracker\u001b[0m\u001b[0;34m.\u001b[0m\u001b[0mappend\u001b[0m\u001b[0;34m(\u001b[0m\u001b[0mcv2\u001b[0m\u001b[0;34m.\u001b[0m\u001b[0mTrackerKCF_create\u001b[0m\u001b[0;34m(\u001b[0m\u001b[0;34m)\u001b[0m\u001b[0;34m)\u001b[0m\u001b[0;34m\u001b[0m\u001b[0m\n\u001b[0m\u001b[1;32m     37\u001b[0m                 \u001b[0mconfir\u001b[0m\u001b[0;34m=\u001b[0m\u001b[0mtracker\u001b[0m\u001b[0;34m[\u001b[0m\u001b[0;34m-\u001b[0m\u001b[0;36m1\u001b[0m\u001b[0;34m]\u001b[0m\u001b[0;34m.\u001b[0m\u001b[0minit\u001b[0m\u001b[0;34m(\u001b[0m\u001b[0mframe\u001b[0m\u001b[0;34m,\u001b[0m \u001b[0mbbox\u001b[0m\u001b[0;34m[\u001b[0m\u001b[0mi\u001b[0m\u001b[0;34m]\u001b[0m\u001b[0;34m)\u001b[0m\u001b[0;34m\u001b[0m\u001b[0m\n\u001b[1;32m     38\u001b[0m                 \u001b[0mok\u001b[0m\u001b[0;34m.\u001b[0m\u001b[0mappend\u001b[0m\u001b[0;34m(\u001b[0m\u001b[0mconfir\u001b[0m\u001b[0;34m)\u001b[0m\u001b[0;34m\u001b[0m\u001b[0m\n",
      "\u001b[0;31mAttributeError\u001b[0m: module 'cv2' has no attribute 'TrackerKCF_create'"
     ]
    }
   ],
   "source": [
    "while True:\n",
    "    stime = time.time()\n",
    "    ret, frame = cap.read() # ret is true if the video is working or false if not\n",
    "    results = tfnet.return_predict(frame) \n",
    "    \n",
    "    #   If there are two people on the photo, reults give to us the following information:\n",
    "    #   [{'bottomright': {'x': 593, 'y': 320},\n",
    "    #  'confidence': 0.42716929,\n",
    "    #  'label': 'person',\n",
    "    #  'topleft': {'x': 417, 'y': 124}},\n",
    "    #  {'bottomright': {'x': 283, 'y': 373},\n",
    "    #  'confidence': 0.76005679,\n",
    "    #  'label': 'person',\n",
    "    #  'topleft': {'x': 177, 'y': 104}}]\n",
    "    \n",
    "    if ret:\n",
    "        bbox=[]        \n",
    "        for result in results:\n",
    "            tl = (result['topleft']['x'], result['topleft']['y']) # Top left corner coordinates\n",
    "            br = (result['bottomright']['x'], result['bottomright']['y']) # Bottom right corner coordinates\n",
    "            box=(tl[0],tl[1],br[0],br[1])\n",
    "            bbox.append(box)\n",
    "                \n",
    "        for i in range(len(bbox)):\n",
    "            new_bbox=True\n",
    "            \n",
    "            for x in range(len(bbox_on_use)):\n",
    "                th=100 # Threshold\n",
    "                corner=(bbox[i][0],bbox[i][1])\n",
    "                max_corner=(bbox_on_use[x][0]+th,bbox_on_use[x][1]+th)\n",
    "                min_corner=(bbox_on_use[x][0]-th,bbox_on_use[x][1]-th)\n",
    "                if corner<max_corner and corner>min_corner:\n",
    "                    new_bbox=False\n",
    "                    \n",
    "            if new_bbox==True:\n",
    "                tracker.append(cv2.TrackerKCF_create())\n",
    "                confir=tracker[-1].init(frame, bbox[i])\n",
    "                ok.append(confir)\n",
    "                bbox_on_use.append(bbox[i])\n",
    "                \n",
    "        # Delete all the tracker that are dead    \n",
    "        aux=0\n",
    "        y=False in ok\n",
    "        while y==True:\n",
    "            if ok[aux]==False:\n",
    "                del ok[aux]\n",
    "                del bbox_on_use[aux]\n",
    "                del tracker[aux]\n",
    "            else:\n",
    "                aux=aux+1\n",
    "                \n",
    "            y=False in ok \n",
    "            \n",
    "        # Update the tracker\n",
    "        for a in range(len(ok)):\n",
    "            ok[a], bbox_on_use[a]= tracker[a].update(frame)\n",
    "            ptl = (int(bbox_on_use[a][0]), int(bbox_on_use[a][1]))\n",
    "            pbr = (int(bbox_on_use[a][0] + bbox_on_use[a][2]), int(bbox_on_use[a][1] + bbox_on_use[a][3]))\n",
    "            frame=cv2.rectangle(frame, ptl, pbr, (255,0,0), 2, 1)\n",
    "            cc=[int((pbr[0]-ptl[0])/2+ptl[0]),int((pbr[1]-ptl[1])/2+ptl[1])] # centre of the bounding box coodintes \n",
    "            frame = cv2.circle(frame, (cc[0],cc[1]) , 2, (0,0,255), -1)\n",
    "            \n",
    "\n",
    "        cv2.imshow('frame', frame)\n",
    "        print('FPS {:.1f}'.format(1 / (time.time() - stime)))\n",
    "\n",
    "    if cv2.waitKey(1) & 0xFF == ord('q'):\n",
    "        break\n",
    "\n",
    "cap.release()\n",
    "cv2.destroyAllWindows()"
   ]
  },
  {
   "cell_type": "code",
   "execution_count": null,
   "metadata": {
    "collapsed": true
   },
   "outputs": [],
   "source": []
  },
  {
   "cell_type": "code",
   "execution_count": null,
   "metadata": {
    "collapsed": true
   },
   "outputs": [],
   "source": []
  },
  {
   "cell_type": "code",
   "execution_count": null,
   "metadata": {
    "collapsed": true
   },
   "outputs": [],
   "source": []
  },
  {
   "cell_type": "code",
   "execution_count": null,
   "metadata": {
    "collapsed": true
   },
   "outputs": [],
   "source": []
  },
  {
   "cell_type": "code",
   "execution_count": null,
   "metadata": {
    "collapsed": true
   },
   "outputs": [],
   "source": []
  },
  {
   "cell_type": "code",
   "execution_count": null,
   "metadata": {
    "collapsed": true
   },
   "outputs": [],
   "source": []
  },
  {
   "cell_type": "code",
   "execution_count": null,
   "metadata": {
    "collapsed": true
   },
   "outputs": [],
   "source": []
  },
  {
   "cell_type": "code",
   "execution_count": null,
   "metadata": {
    "collapsed": true
   },
   "outputs": [],
   "source": []
  },
  {
   "cell_type": "code",
   "execution_count": null,
   "metadata": {
    "collapsed": true
   },
   "outputs": [],
   "source": []
  },
  {
   "cell_type": "code",
   "execution_count": null,
   "metadata": {
    "collapsed": true
   },
   "outputs": [],
   "source": []
  },
  {
   "cell_type": "code",
   "execution_count": null,
   "metadata": {
    "collapsed": true
   },
   "outputs": [],
   "source": []
  }
 ],
 "metadata": {
  "kernelspec": {
   "display_name": "Python 3",
   "language": "python",
   "name": "python3"
  },
  "language_info": {
   "codemirror_mode": {
    "name": "ipython",
    "version": 3
   },
   "file_extension": ".py",
   "mimetype": "text/x-python",
   "name": "python",
   "nbconvert_exporter": "python",
   "pygments_lexer": "ipython3",
   "version": "3.6.4"
  }
 },
 "nbformat": 4,
 "nbformat_minor": 2
}
